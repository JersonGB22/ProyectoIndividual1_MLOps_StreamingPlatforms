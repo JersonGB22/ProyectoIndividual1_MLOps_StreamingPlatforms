{
 "cells": [
  {
   "attachments": {},
   "cell_type": "markdown",
   "metadata": {},
   "source": [
    "## Machine Learning"
   ]
  },
  {
   "attachments": {},
   "cell_type": "markdown",
   "metadata": {},
   "source": [
    "### Importación de las librerías necesarias"
   ]
  },
  {
   "cell_type": "code",
   "execution_count": 2,
   "metadata": {},
   "outputs": [],
   "source": [
    "import pandas as pd\n",
    "from sklearn.feature_extraction.text import CountVectorizer\n",
    "from sklearn.metrics.pairwise import cosine_similarity"
   ]
  },
  {
   "attachments": {},
   "cell_type": "markdown",
   "metadata": {},
   "source": [
    "Se utilizarán las librerías sklearn.feature_extraction.text y sklearn.metrics.pairwise para implementar un sistema de recomendación basado en filtrado de contenido en el que se compararán las similitudes entre diferentes elementos de un conjunto de datos. La librería CountVectorizer se utilizará para convertir los datos de texto en una matriz numérica, mientras que cosine_similarity se utilizará para calcular la similitud coseno entre los elementos de la matriz. Esto permitirá generar recomendaciones personalizadas basadas en los patrones de similitud de los datos de entrada."
   ]
  },
  {
   "attachments": {},
   "cell_type": "markdown",
   "metadata": {},
   "source": [
    "### Carga de datos"
   ]
  },
  {
   "cell_type": "code",
   "execution_count": 3,
   "metadata": {},
   "outputs": [
    {
     "data": {
      "text/html": [
       "<div>\n",
       "<style scoped>\n",
       "    .dataframe tbody tr th:only-of-type {\n",
       "        vertical-align: middle;\n",
       "    }\n",
       "\n",
       "    .dataframe tbody tr th {\n",
       "        vertical-align: top;\n",
       "    }\n",
       "\n",
       "    .dataframe thead th {\n",
       "        text-align: right;\n",
       "    }\n",
       "</style>\n",
       "<table border=\"1\" class=\"dataframe\">\n",
       "  <thead>\n",
       "    <tr style=\"text-align: right;\">\n",
       "      <th></th>\n",
       "      <th>title</th>\n",
       "      <th>label</th>\n",
       "    </tr>\n",
       "  </thead>\n",
       "  <tbody>\n",
       "    <tr>\n",
       "      <th>0</th>\n",
       "      <td>the grand seduction</td>\n",
       "      <td>movi don mckellar brendan gleeson taylor kitsc...</td>\n",
       "    </tr>\n",
       "    <tr>\n",
       "      <th>1</th>\n",
       "      <td>take care good night</td>\n",
       "      <td>movi girish joshi mahesh manjrekar abhay mahaj...</td>\n",
       "    </tr>\n",
       "    <tr>\n",
       "      <th>2</th>\n",
       "      <td>secrets of deception</td>\n",
       "      <td>movi josh webber tom sizemor lorenzo lama robe...</td>\n",
       "    </tr>\n",
       "  </tbody>\n",
       "</table>\n",
       "</div>"
      ],
      "text/plain": [
       "                  title                                              label\n",
       "0   the grand seduction  movi don mckellar brendan gleeson taylor kitsc...\n",
       "1  take care good night  movi girish joshi mahesh manjrekar abhay mahaj...\n",
       "2  secrets of deception  movi josh webber tom sizemor lorenzo lama robe..."
      ]
     },
     "execution_count": 3,
     "metadata": {},
     "output_type": "execute_result"
    }
   ],
   "source": [
    "df_movie=pd.read_csv(r\"Datasets/movies_transformation_ML.csv\")\n",
    "df_movie.head(3)"
   ]
  },
  {
   "attachments": {},
   "cell_type": "markdown",
   "metadata": {},
   "source": [
    "### Matriz de caracaterísticas"
   ]
  },
  {
   "cell_type": "code",
   "execution_count": 42,
   "metadata": {},
   "outputs": [],
   "source": [
    "cv=CountVectorizer(max_features=1000,stop_words=\"english\")\n",
    "vector=cv.fit_transform(df_movie.label).toarray()"
   ]
  },
  {
   "cell_type": "markdown",
   "metadata": {},
   "source": [
    "* Al utilizar max_features=1000 en cv=CountVectorizer(max_features=1000, stop_words=\"english\"), estoy limitando el número máximo de palabras que se utilizarán para generar la matriz de características. Esto me permite trabajar con un conjunto de características más manejable, lo que puede reducir el tiempo de procesamiento y aumentar la precisión del modelo. También estoy eliminando las palabras comunes en inglés utilizando stop_words=\"english\", lo que puede mejorar la calidad de las características restantes y reducir el ruido en el modelo."
   ]
  },
  {
   "cell_type": "code",
   "execution_count": 69,
   "metadata": {},
   "outputs": [
    {
     "name": "stdout",
     "output_type": "stream",
     "text": [
      "(22998, 1000)\n"
     ]
    },
    {
     "data": {
      "text/plain": [
       "array([[0, 0, 0, ..., 0, 0, 0],\n",
       "       [0, 1, 0, ..., 0, 0, 0],\n",
       "       [0, 0, 0, ..., 0, 0, 0],\n",
       "       ...,\n",
       "       [0, 0, 0, ..., 0, 0, 0],\n",
       "       [0, 0, 0, ..., 0, 0, 0],\n",
       "       [0, 0, 1, ..., 0, 0, 0]], dtype=int64)"
      ]
     },
     "execution_count": 69,
     "metadata": {},
     "output_type": "execute_result"
    }
   ],
   "source": [
    "# Visualizando el array vector\n",
    "print(vector.shape)\n",
    "vector"
   ]
  },
  {
   "attachments": {},
   "cell_type": "markdown",
   "metadata": {},
   "source": [
    "### Matriz de Similitud"
   ]
  },
  {
   "cell_type": "code",
   "execution_count": 43,
   "metadata": {},
   "outputs": [],
   "source": [
    "similarity_score=cosine_similarity(vector)"
   ]
  },
  {
   "cell_type": "code",
   "execution_count": 70,
   "metadata": {},
   "outputs": [
    {
     "name": "stdout",
     "output_type": "stream",
     "text": [
      "(22998, 22998)\n"
     ]
    },
    {
     "data": {
      "text/plain": [
       "array([[1.        , 0.13867505, 0.11020775, ..., 0.13977131, 0.13074409,\n",
       "        0.10529963],\n",
       "       [0.13867505, 1.        , 0.19867985, ..., 0.18898224, 0.23570226,\n",
       "        0.3322053 ],\n",
       "       [0.11020775, 0.19867985, 1.        , ..., 0.25031309, 0.23414645,\n",
       "        0.26401   ],\n",
       "       ...,\n",
       "       [0.13977131, 0.18898224, 0.25031309, ..., 1.        , 0.35634832,\n",
       "        0.179374  ],\n",
       "       [0.13074409, 0.23570226, 0.23414645, ..., 0.35634832, 1.        ,\n",
       "        0.20134682],\n",
       "       [0.10529963, 0.3322053 , 0.26401   , ..., 0.179374  , 0.20134682,\n",
       "        1.        ]])"
      ]
     },
     "execution_count": 70,
     "metadata": {},
     "output_type": "execute_result"
    }
   ],
   "source": [
    "# Visualizando el array similarity_score\n",
    "print(similarity_score.shape)\n",
    "similarity_score"
   ]
  },
  {
   "attachments": {},
   "cell_type": "markdown",
   "metadata": {},
   "source": [
    "* Crearemos una función que se utilizará para indexar las películas más similares a una película específica en el conjunto de datos. Dado un título de película, la función encuentra su índice correspondiente en el conjunto de datos y utiliza la matriz de similitud previamente calculada, para determinar los 5 elementos más similares a la película de referencia. La función devuelve una lista de índices correspondientes a las películas más similares en orden descendente, lo que permite utilizar esta información para hacer recomendaciones personalizadas en el endpoint 7 de la API de manera más eficiente y efectiva."
   ]
  },
  {
   "cell_type": "code",
   "execution_count": 73,
   "metadata": {},
   "outputs": [],
   "source": [
    "def index_movie(titulo:str):\n",
    "    index=df_movie[df_movie.title==titulo].index[0]\n",
    "    score=list(enumerate(similarity_score[index]))\n",
    "    score=sorted(score,key=lambda x: x[1],reverse=True)\n",
    "    # El índice 0 siempre corresponde a la misma película, por lo cual, no se considera\n",
    "    score=score[1:6]\n",
    "    return [i[0] for i in score]"
   ]
  },
  {
   "cell_type": "code",
   "execution_count": 77,
   "metadata": {},
   "outputs": [
    {
     "data": {
      "text/html": [
       "<div>\n",
       "<style scoped>\n",
       "    .dataframe tbody tr th:only-of-type {\n",
       "        vertical-align: middle;\n",
       "    }\n",
       "\n",
       "    .dataframe tbody tr th {\n",
       "        vertical-align: top;\n",
       "    }\n",
       "\n",
       "    .dataframe thead th {\n",
       "        text-align: right;\n",
       "    }\n",
       "</style>\n",
       "<table border=\"1\" class=\"dataframe\">\n",
       "  <thead>\n",
       "    <tr style=\"text-align: right;\">\n",
       "      <th></th>\n",
       "      <th>title</th>\n",
       "      <th>label</th>\n",
       "      <th>index_movie</th>\n",
       "    </tr>\n",
       "  </thead>\n",
       "  <tbody>\n",
       "    <tr>\n",
       "      <th>0</th>\n",
       "      <td>the grand seduction</td>\n",
       "      <td>movi don mckellar brendan gleeson taylor kitsc...</td>\n",
       "      <td>[4800, 19930, 19589, 7248, 2638]</td>\n",
       "    </tr>\n",
       "    <tr>\n",
       "      <th>1</th>\n",
       "      <td>take care good night</td>\n",
       "      <td>movi girish joshi mahesh manjrekar abhay mahaj...</td>\n",
       "      <td>[7260, 12730, 2603, 7879, 7463]</td>\n",
       "    </tr>\n",
       "    <tr>\n",
       "      <th>2</th>\n",
       "      <td>secrets of deception</td>\n",
       "      <td>movi josh webber tom sizemor lorenzo lama robe...</td>\n",
       "      <td>[13308, 17119, 13031, 11029, 3689]</td>\n",
       "    </tr>\n",
       "    <tr>\n",
       "      <th>3</th>\n",
       "      <td>pink: staying true</td>\n",
       "      <td>movi sonia anderson interview with: pink adel ...</td>\n",
       "      <td>[14308, 13175, 13275, 22078, 18491]</td>\n",
       "    </tr>\n",
       "    <tr>\n",
       "      <th>4</th>\n",
       "      <td>monster maker</td>\n",
       "      <td>movi gile foster harri dean stanton kieran o'b...</td>\n",
       "      <td>[13371, 7866, 7559, 6157, 6497]</td>\n",
       "    </tr>\n",
       "    <tr>\n",
       "      <th>...</th>\n",
       "      <td>...</td>\n",
       "      <td>...</td>\n",
       "      <td>...</td>\n",
       "    </tr>\n",
       "    <tr>\n",
       "      <th>22993</th>\n",
       "      <td>zodiac</td>\n",
       "      <td>movi david fincher mark ruffalo jake gyllenha ...</td>\n",
       "      <td>[19892, 22059, 11402, 20148, 22262]</td>\n",
       "    </tr>\n",
       "    <tr>\n",
       "      <th>22994</th>\n",
       "      <td>zombie dumb</td>\n",
       "      <td>tv show 7+ kids' tv korean tv show tv comedi w...</td>\n",
       "      <td>[8708, 8724, 8726, 8728, 8752]</td>\n",
       "    </tr>\n",
       "    <tr>\n",
       "      <th>22995</th>\n",
       "      <td>zombieland</td>\n",
       "      <td>movi ruben fleischer jess eisenberg woodi harr...</td>\n",
       "      <td>[13028, 21899, 21137, 21454, 21836]</td>\n",
       "    </tr>\n",
       "    <tr>\n",
       "      <th>22996</th>\n",
       "      <td>zoom</td>\n",
       "      <td>movi peter hewitt tim allen courteney cox chev...</td>\n",
       "      <td>[20671, 17529, 18251, 20427, 10612]</td>\n",
       "    </tr>\n",
       "    <tr>\n",
       "      <th>22997</th>\n",
       "      <td>zubaan</td>\n",
       "      <td>movi mozez singh vicki kaushal sarah-jan dia r...</td>\n",
       "      <td>[17627, 14399, 18649, 16009, 18342]</td>\n",
       "    </tr>\n",
       "  </tbody>\n",
       "</table>\n",
       "<p>22998 rows × 3 columns</p>\n",
       "</div>"
      ],
      "text/plain": [
       "                      title  \\\n",
       "0       the grand seduction   \n",
       "1      take care good night   \n",
       "2      secrets of deception   \n",
       "3        pink: staying true   \n",
       "4             monster maker   \n",
       "...                     ...   \n",
       "22993                zodiac   \n",
       "22994           zombie dumb   \n",
       "22995            zombieland   \n",
       "22996                  zoom   \n",
       "22997                zubaan   \n",
       "\n",
       "                                                   label  \\\n",
       "0      movi don mckellar brendan gleeson taylor kitsc...   \n",
       "1      movi girish joshi mahesh manjrekar abhay mahaj...   \n",
       "2      movi josh webber tom sizemor lorenzo lama robe...   \n",
       "3      movi sonia anderson interview with: pink adel ...   \n",
       "4      movi gile foster harri dean stanton kieran o'b...   \n",
       "...                                                  ...   \n",
       "22993  movi david fincher mark ruffalo jake gyllenha ...   \n",
       "22994  tv show 7+ kids' tv korean tv show tv comedi w...   \n",
       "22995  movi ruben fleischer jess eisenberg woodi harr...   \n",
       "22996  movi peter hewitt tim allen courteney cox chev...   \n",
       "22997  movi mozez singh vicki kaushal sarah-jan dia r...   \n",
       "\n",
       "                               index_movie  \n",
       "0         [4800, 19930, 19589, 7248, 2638]  \n",
       "1          [7260, 12730, 2603, 7879, 7463]  \n",
       "2       [13308, 17119, 13031, 11029, 3689]  \n",
       "3      [14308, 13175, 13275, 22078, 18491]  \n",
       "4          [13371, 7866, 7559, 6157, 6497]  \n",
       "...                                    ...  \n",
       "22993  [19892, 22059, 11402, 20148, 22262]  \n",
       "22994       [8708, 8724, 8726, 8728, 8752]  \n",
       "22995  [13028, 21899, 21137, 21454, 21836]  \n",
       "22996  [20671, 17529, 18251, 20427, 10612]  \n",
       "22997  [17627, 14399, 18649, 16009, 18342]  \n",
       "\n",
       "[22998 rows x 3 columns]"
      ]
     },
     "execution_count": 77,
     "metadata": {},
     "output_type": "execute_result"
    }
   ],
   "source": [
    "df_movie[\"index_movie\"]=df_movie.title.apply(index_movie)\n",
    "df_movie"
   ]
  },
  {
   "attachments": {},
   "cell_type": "markdown",
   "metadata": {},
   "source": [
    "#### Exportación del `df_movie` para la realización del endpoint de ML (función 7)"
   ]
  },
  {
   "cell_type": "code",
   "execution_count": 80,
   "metadata": {},
   "outputs": [],
   "source": [
    "# La columna \"label\" ya no será necesaria\n",
    "df_movie.drop(columns=[\"label\"]).to_csv(\"movies_ML_API.csv\",index=False)"
   ]
  },
  {
   "cell_type": "code",
   "execution_count": 10,
   "metadata": {},
   "outputs": [
    {
     "data": {
      "text/html": [
       "<div>\n",
       "<style scoped>\n",
       "    .dataframe tbody tr th:only-of-type {\n",
       "        vertical-align: middle;\n",
       "    }\n",
       "\n",
       "    .dataframe tbody tr th {\n",
       "        vertical-align: top;\n",
       "    }\n",
       "\n",
       "    .dataframe thead th {\n",
       "        text-align: right;\n",
       "    }\n",
       "</style>\n",
       "<table border=\"1\" class=\"dataframe\">\n",
       "  <thead>\n",
       "    <tr style=\"text-align: right;\">\n",
       "      <th></th>\n",
       "      <th>title</th>\n",
       "      <th>index_movie</th>\n",
       "    </tr>\n",
       "  </thead>\n",
       "  <tbody>\n",
       "    <tr>\n",
       "      <th>0</th>\n",
       "      <td>the grand seduction</td>\n",
       "      <td>[4800, 19930, 19589, 7248, 2638]</td>\n",
       "    </tr>\n",
       "    <tr>\n",
       "      <th>1</th>\n",
       "      <td>take care good night</td>\n",
       "      <td>[7260, 12730, 2603, 7879, 7463]</td>\n",
       "    </tr>\n",
       "    <tr>\n",
       "      <th>2</th>\n",
       "      <td>secrets of deception</td>\n",
       "      <td>[13308, 17119, 13031, 11029, 3689]</td>\n",
       "    </tr>\n",
       "    <tr>\n",
       "      <th>3</th>\n",
       "      <td>pink: staying true</td>\n",
       "      <td>[14308, 13175, 13275, 22078, 18491]</td>\n",
       "    </tr>\n",
       "    <tr>\n",
       "      <th>4</th>\n",
       "      <td>monster maker</td>\n",
       "      <td>[13371, 7866, 7559, 6157, 6497]</td>\n",
       "    </tr>\n",
       "    <tr>\n",
       "      <th>...</th>\n",
       "      <td>...</td>\n",
       "      <td>...</td>\n",
       "    </tr>\n",
       "    <tr>\n",
       "      <th>22993</th>\n",
       "      <td>zodiac</td>\n",
       "      <td>[19892, 22059, 11402, 20148, 22262]</td>\n",
       "    </tr>\n",
       "    <tr>\n",
       "      <th>22994</th>\n",
       "      <td>zombie dumb</td>\n",
       "      <td>[8708, 8724, 8726, 8728, 8752]</td>\n",
       "    </tr>\n",
       "    <tr>\n",
       "      <th>22995</th>\n",
       "      <td>zombieland</td>\n",
       "      <td>[13028, 21899, 21137, 21454, 21836]</td>\n",
       "    </tr>\n",
       "    <tr>\n",
       "      <th>22996</th>\n",
       "      <td>zoom</td>\n",
       "      <td>[20671, 17529, 18251, 20427, 10612]</td>\n",
       "    </tr>\n",
       "    <tr>\n",
       "      <th>22997</th>\n",
       "      <td>zubaan</td>\n",
       "      <td>[17627, 14399, 18649, 16009, 18342]</td>\n",
       "    </tr>\n",
       "  </tbody>\n",
       "</table>\n",
       "<p>22998 rows × 2 columns</p>\n",
       "</div>"
      ],
      "text/plain": [
       "                      title                          index_movie\n",
       "0       the grand seduction     [4800, 19930, 19589, 7248, 2638]\n",
       "1      take care good night      [7260, 12730, 2603, 7879, 7463]\n",
       "2      secrets of deception   [13308, 17119, 13031, 11029, 3689]\n",
       "3        pink: staying true  [14308, 13175, 13275, 22078, 18491]\n",
       "4             monster maker      [13371, 7866, 7559, 6157, 6497]\n",
       "...                     ...                                  ...\n",
       "22993                zodiac  [19892, 22059, 11402, 20148, 22262]\n",
       "22994           zombie dumb       [8708, 8724, 8726, 8728, 8752]\n",
       "22995            zombieland  [13028, 21899, 21137, 21454, 21836]\n",
       "22996                  zoom  [20671, 17529, 18251, 20427, 10612]\n",
       "22997                zubaan  [17627, 14399, 18649, 16009, 18342]\n",
       "\n",
       "[22998 rows x 2 columns]"
      ]
     },
     "execution_count": 10,
     "metadata": {},
     "output_type": "execute_result"
    }
   ],
   "source": [
    "df=pd.read_csv(r\"Datasets/movies_ML_API.csv\")\n",
    "df"
   ]
  }
 ],
 "metadata": {
  "kernelspec": {
   "display_name": "Python 3",
   "language": "python",
   "name": "python3"
  },
  "language_info": {
   "codemirror_mode": {
    "name": "ipython",
    "version": 3
   },
   "file_extension": ".py",
   "mimetype": "text/x-python",
   "name": "python",
   "nbconvert_exporter": "python",
   "pygments_lexer": "ipython3",
   "version": "3.9.2"
  },
  "orig_nbformat": 4
 },
 "nbformat": 4,
 "nbformat_minor": 2
}
